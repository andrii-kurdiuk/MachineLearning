{
 "cells": [
  {
   "cell_type": "code",
   "execution_count": 14,
   "metadata": {},
   "outputs": [],
   "source": [
    "import numpy as np\n",
    "from sklearn import datasets, model_selection, metrics, ensemble"
   ]
  },
  {
   "cell_type": "code",
   "execution_count": 4,
   "metadata": {},
   "outputs": [],
   "source": [
    "data, target = datasets.load_digits(return_X_y=True)\n",
    "X_train, X_test, y_train, y_test = model_selection.train_test_split(data, target, test_size=0.25, shuffle=False)"
   ]
  },
  {
   "cell_type": "code",
   "execution_count": 5,
   "metadata": {},
   "outputs": [],
   "source": [
    "def get_1NN_target(obj_test, X_train, y_train):\n",
    "    \n",
    "    min_dist = None\n",
    "    min_answer = None\n",
    "    for obj, answer in zip(X_train, y_train):\n",
    "        \n",
    "        dist = np.linalg.norm(obj - obj_test)\n",
    "        if min_dist is None:\n",
    "            min_dist = dist\n",
    "            min_answer = answer\n",
    "        elif min_dist >= dist:\n",
    "            min_dist = dist\n",
    "            min_answer = answer\n",
    "            \n",
    "    return min_answer"
   ]
  },
  {
   "cell_type": "code",
   "execution_count": 11,
   "metadata": {},
   "outputs": [],
   "source": [
    "def get_kNN_prediction(X_test, X_train, y_train):\n",
    "    \n",
    "    y_predicted = []\n",
    "    for obj_test in X_test:\n",
    "        y_predicted.append(get_1NN_target(obj_test, X_train, y_train))\n",
    "        \n",
    "    return y_predicted"
   ]
  },
  {
   "cell_type": "code",
   "execution_count": 19,
   "metadata": {},
   "outputs": [],
   "source": [
    "def write_answer(i, answer):\n",
    "    \n",
    "    with open('ht3_answer_' + str(i) + '.txt', 'w') as fout:\n",
    "        fout.write(str(answer))"
   ]
  },
  {
   "cell_type": "code",
   "execution_count": 12,
   "metadata": {},
   "outputs": [
    {
     "name": "stdout",
     "output_type": "stream",
     "text": [
      "0.9622222222222222\n"
     ]
    }
   ],
   "source": [
    "y_kNN_predicted = get_kNN_prediction(X_test, X_train, y_train)\n",
    "kNN_accuracy = metrics.accuracy_score(y_test, y_kNN_predicted)\n",
    "print kNN_accuracy"
   ]
  },
  {
   "cell_type": "code",
   "execution_count": 17,
   "metadata": {},
   "outputs": [
    {
     "name": "stdout",
     "output_type": "stream",
     "text": [
      "0.9333333333333333\n"
     ]
    }
   ],
   "source": [
    "rf_classifier = ensemble.RandomForestClassifier(n_estimators=1000)\n",
    "rf_classifier.fit(X_train, y_train)\n",
    "\n",
    "y_rf_predicted = rf_classifier.predict(X_test)\n",
    "rf_accuracy = metrics.accuracy_score(y_test, y_rf_predicted)\n",
    "print rf_accuracy"
   ]
  },
  {
   "cell_type": "code",
   "execution_count": 21,
   "metadata": {},
   "outputs": [],
   "source": [
    "write_answer(1, 1 - kNN_accuracy)\n",
    "write_answer(2, 1 - rf_accuracy)"
   ]
  }
 ],
 "metadata": {
  "kernelspec": {
   "display_name": "Python 2",
   "language": "python",
   "name": "python2"
  },
  "language_info": {
   "codemirror_mode": {
    "name": "ipython",
    "version": 2
   },
   "file_extension": ".py",
   "mimetype": "text/x-python",
   "name": "python",
   "nbconvert_exporter": "python",
   "pygments_lexer": "ipython2",
   "version": "2.7.12"
  }
 },
 "nbformat": 4,
 "nbformat_minor": 2
}
