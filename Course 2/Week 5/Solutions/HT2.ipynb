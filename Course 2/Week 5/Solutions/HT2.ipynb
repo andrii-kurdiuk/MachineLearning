{
 "cells": [
  {
   "cell_type": "code",
   "execution_count": 11,
   "metadata": {},
   "outputs": [],
   "source": [
    "from sklearn import datasets, model_selection, cross_validation, naive_bayes\n",
    "import numpy as np"
   ]
  },
  {
   "cell_type": "code",
   "execution_count": 8,
   "metadata": {},
   "outputs": [],
   "source": [
    "digits_X, digits_y = datasets.load_digits(return_X_y=True)\n",
    "cancer_X, cancer_y = datasets.load_breast_cancer(return_X_y=True)\n",
    "digits_X_train, digits_X_test, digits_y_train, digits_y_test = cross_validation.train_test_split(digits_X, digits_y, test_size=0.3, random_state=42)\n",
    "cancer_X_train, cancer_X_test, cancer_y_train, cancer_y_test = cross_validation.train_test_split(cancer_X, cancer_y, test_size=0.3, random_state=42)"
   ]
  },
  {
   "cell_type": "code",
   "execution_count": 19,
   "metadata": {},
   "outputs": [
    {
     "data": {
      "text/plain": [
       "array([[ 0.,  0.,  5., 13., 13.,  8.,  0.,  0.,  0.,  0., 16., 11., 13.,\n",
       "        16.,  6.,  0.,  0.,  1., 16.,  5.,  2., 14.,  9.,  0.,  0.,  0.,\n",
       "         9., 16., 16., 15.,  0.,  0.,  0.,  0., 10., 16., 14., 14.,  0.,\n",
       "         0.,  0.,  5., 15.,  4.,  0., 16.,  6.,  0.,  0.,  6., 14.,  7.,\n",
       "         6., 16.,  4.,  0.,  0.,  0.,  7., 15., 16., 10.,  0.,  0.],\n",
       "       [ 0.,  0.,  3., 14., 16., 14.,  0.,  0.,  0.,  0., 13., 13., 13.,\n",
       "        16.,  2.,  0.,  0.,  0.,  1.,  0.,  9., 15.,  0.,  0.,  0.,  0.,\n",
       "         9., 12., 15., 16., 10.,  0.,  0.,  4., 16., 16., 16., 11.,  3.,\n",
       "         0.,  0.,  0.,  4.,  9., 14.,  2.,  0.,  0.,  0.,  0.,  2., 15.,\n",
       "         9.,  0.,  0.,  0.,  0.,  0.,  4., 13.,  1.,  0.,  0.,  0.],\n",
       "       [ 0.,  0.,  5., 13.,  2.,  0.,  0.,  0.,  0.,  0.,  4., 16.,  7.,\n",
       "         0.,  0.,  0.,  0.,  0.,  4., 16.,  4.,  0.,  0.,  0.,  0.,  0.,\n",
       "         4., 16.,  6.,  0.,  0.,  0.,  0.,  0.,  9., 16., 10.,  0.,  0.,\n",
       "         0.,  0.,  0.,  2., 11., 15.,  1.,  0.,  0.,  0.,  0., 10., 13.,\n",
       "        16., 15., 16.,  9.,  0.,  0.,  3., 12., 16., 16., 11.,  2.],\n",
       "       [ 0.,  0.,  0.,  6., 16.,  2.,  0.,  0.,  0.,  0.,  2., 15., 15.,\n",
       "         0.,  0.,  0.,  0.,  0., 15., 16.,  3.,  2.,  3.,  0.,  0.,  7.,\n",
       "        16.,  7.,  3., 15., 11.,  0.,  0.,  7., 16., 14., 14., 16.,  5.,\n",
       "         0.,  0.,  1.,  7., 12., 16., 10.,  0.,  0.,  0.,  0.,  0.,  7.,\n",
       "        16.,  4.,  0.,  0.,  0.,  0.,  0., 10., 15.,  0.,  0.,  0.],\n",
       "       [ 0.,  0.,  0.,  7., 15.,  0.,  0.,  0.,  0.,  0.,  6., 15.,  8.,\n",
       "         0.,  0.,  0.,  0.,  0., 13.,  9.,  0.,  0.,  0.,  0.,  0.,  2.,\n",
       "        16.,  5.,  4.,  1.,  0.,  0.,  0.,  5., 16., 16., 16., 12.,  3.,\n",
       "         0.,  0.,  1., 15.,  4.,  1.,  8., 12.,  0.,  0.,  0.,  8., 14.,\n",
       "         5.,  5., 15.,  0.,  0.,  0.,  0.,  6., 16., 16., 11.,  0.],\n",
       "       [ 0.,  1., 13., 15.,  2.,  0.,  0.,  0.,  0.,  6., 15., 15.,  9.,\n",
       "         0.,  0.,  0.,  0.,  9.,  8., 10., 13.,  0.,  0.,  0.,  0.,  5.,\n",
       "         3., 12., 12.,  0.,  0.,  0.,  0.,  0.,  3., 16.,  6.,  0.,  0.,\n",
       "         0.,  0.,  5., 15., 15.,  1.,  0.,  0.,  0.,  0.,  6., 16., 15.,\n",
       "        12., 12., 11.,  0.,  0.,  1., 11., 13., 16., 16., 12.,  0.],\n",
       "       [ 0.,  0.,  3., 12., 16.,  9.,  0.,  0.,  0.,  0., 12.,  9., 13.,\n",
       "        16.,  9.,  0.,  0.,  3., 16.,  5.,  0.,  8., 12.,  0.,  0.,  0.,\n",
       "         9., 16., 10., 13.,  2.,  0.,  0.,  0.,  0.,  4., 16., 12.,  0.,\n",
       "         0.,  0.,  0.,  0., 11.,  9., 16.,  0.,  0.,  0.,  0.,  1., 15.,\n",
       "         2., 12.,  0.,  0.,  0.,  0.,  2., 16., 16.,  6.,  0.,  0.],\n",
       "       [ 0.,  0.,  6., 16., 16., 16., 12.,  0.,  0.,  0., 13., 10.,  8.,\n",
       "        16.,  5.,  0.,  0.,  1., 15.,  1.,  9., 12.,  0.,  0.,  0.,  0.,\n",
       "         4.,  0., 13.,  7.,  0.,  0.,  0.,  0., 10., 16., 16., 16.,  9.,\n",
       "         0.,  0.,  0.,  7., 14., 12.,  8.,  3.,  0.,  0.,  0.,  3., 15.,\n",
       "         5.,  0.,  0.,  0.,  0.,  0.,  8., 15.,  0.,  0.,  0.,  0.],\n",
       "       [ 0.,  0., 14., 12., 12., 13.,  3.,  0.,  0.,  0., 16.,  8.,  8.,\n",
       "         6.,  1.,  0.,  0.,  0., 14.,  7.,  5.,  0.,  0.,  0.,  0.,  0.,\n",
       "        15., 15., 16.,  2.,  0.,  0.,  0.,  0., 13.,  3.,  6.,  8.,  0.,\n",
       "         0.,  0.,  0.,  0.,  0.,  3., 13.,  0.,  0.,  0.,  0.,  5.,  4.,\n",
       "         8., 12.,  1.,  0.,  0.,  1., 15., 15., 11.,  3.,  0.,  0.],\n",
       "       [ 0.,  0.,  5., 11., 13.,  3.,  0.,  0.,  0.,  0., 16., 13., 15.,\n",
       "         9.,  0.,  0.,  0.,  4., 16.,  0., 13., 13.,  0.,  0.,  0.,  1.,\n",
       "        11., 16., 15., 15.,  3.,  0.,  0.,  0.,  0.,  0.,  0., 12.,  7.,\n",
       "         0.,  0.,  0.,  0.,  0.,  0.,  6., 12.,  0.,  0.,  0.,  6.,  4.,\n",
       "         2.,  9., 11.,  0.,  0.,  0.,  6., 13., 16., 16.,  6.,  0.]])"
      ]
     },
     "execution_count": 19,
     "metadata": {},
     "output_type": "execute_result"
    }
   ],
   "source": [
    "digits_X_train[:10, :]"
   ]
  },
  {
   "cell_type": "code",
   "execution_count": 16,
   "metadata": {},
   "outputs": [
    {
     "name": "stdout",
     "output_type": "stream",
     "text": [
      "for digits classification:\n",
      "bernoulli: 0.8258236507780582\n",
      "multinomial: 0.8708771489735053\n",
      "gauss: 0.8186003803550138\n",
      "\n",
      "for cancer classification:\n",
      "bernoulli: 0.6274204028589994\n",
      "multinomial: 0.8945790401930752\n",
      "gauss: 0.9367492806089297\n"
     ]
    }
   ],
   "source": [
    "bernoulli_classifiyer = naive_bayes.BernoulliNB()\n",
    "multinom_classifiyer = naive_bayes.MultinomialNB()\n",
    "gauss_clasifiyer = naive_bayes.GaussianNB()\n",
    "\n",
    "bernoulli_scores_digits = np.mean(model_selection.cross_val_score(bernoulli_classifiyer, digits_X, digits_y))\n",
    "multinom_scores_digits = np.mean(model_selection.cross_val_score(multinom_classifiyer, digits_X, digits_y))\n",
    "gauss_scores_digits = np.mean(model_selection.cross_val_score(gauss_clasifiyer, digits_X, digits_y))\n",
    "\n",
    "bernoulli_scores_cancer = np.mean(model_selection.cross_val_score(bernoulli_classifiyer, cancer_X, cancer_y))\n",
    "multinom_scores_cancer = np.mean(model_selection.cross_val_score(multinom_classifiyer, cancer_X, cancer_y))\n",
    "gauss_scores_cancer = np.mean(model_selection.cross_val_score(gauss_clasifiyer, cancer_X, cancer_y))\n",
    "\n",
    "print 'for digits classification:'\n",
    "print 'bernoulli:', bernoulli_scores_digits\n",
    "print 'multinomial:', multinom_scores_digits\n",
    "print 'gauss:', gauss_scores_digits\n",
    "print '\\nfor cancer classification:'\n",
    "print 'bernoulli:', bernoulli_scores_cancer\n",
    "print 'multinomial:', multinom_scores_cancer\n",
    "print 'gauss:', gauss_scores_cancer"
   ]
  },
  {
   "cell_type": "code",
   "execution_count": 17,
   "metadata": {},
   "outputs": [],
   "source": [
    "def write_answer(i, answer):\n",
    "    \n",
    "    with open('ht2_answe_' + str(i) + '.txt', 'w') as fout:\n",
    "        fout.write(str(answer))"
   ]
  },
  {
   "cell_type": "code",
   "execution_count": 21,
   "metadata": {},
   "outputs": [],
   "source": [
    "write_answer(1, gauss_scores_cancer)\n",
    "write_answer(2, multinom_scores_digits)\n",
    "write_answer(3, '3 4')"
   ]
  }
 ],
 "metadata": {
  "kernelspec": {
   "display_name": "Python 2",
   "language": "python",
   "name": "python2"
  },
  "language_info": {
   "codemirror_mode": {
    "name": "ipython",
    "version": 2
   },
   "file_extension": ".py",
   "mimetype": "text/x-python",
   "name": "python",
   "nbconvert_exporter": "python",
   "pygments_lexer": "ipython2",
   "version": "2.7.12"
  }
 },
 "nbformat": 4,
 "nbformat_minor": 2
}
