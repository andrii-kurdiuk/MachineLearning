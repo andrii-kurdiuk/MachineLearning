{
 "cells": [
  {
   "cell_type": "code",
   "execution_count": 1,
   "metadata": {},
   "outputs": [
    {
     "name": "stdout",
     "output_type": "stream",
     "text": [
      "Populating the interactive namespace from numpy and matplotlib\n"
     ]
    }
   ],
   "source": [
    "%pylab inline"
   ]
  },
  {
   "cell_type": "code",
   "execution_count": 54,
   "metadata": {},
   "outputs": [],
   "source": [
    "from sklearn import datasets, cross_validation, tree, ensemble, grid_search\n",
    "\n",
    "import numpy as np\n",
    "import pandas as pd"
   ]
  },
  {
   "cell_type": "code",
   "execution_count": 36,
   "metadata": {},
   "outputs": [
    {
     "name": "stdout",
     "output_type": "stream",
     "text": [
      "(1797, 64)\n",
      "8\n"
     ]
    }
   ],
   "source": [
    "(X, y) = datasets.load_digits(return_X_y=True)\n",
    "print X.shape\n",
    "print int(round(np.sqrt(X.shape[1]), 0))"
   ]
  },
  {
   "cell_type": "code",
   "execution_count": 72,
   "metadata": {},
   "outputs": [
    {
     "name": "stdout",
     "output_type": "stream",
     "text": [
      "0.826385672691601\n"
     ]
    }
   ],
   "source": [
    "clf = tree.DecisionTreeClassifier()\n",
    "score_1 = cross_validation.cross_val_score(clf, X, y, cv=10, n_jobs=-1).mean()\n",
    "print score_1"
   ]
  },
  {
   "cell_type": "code",
   "execution_count": 44,
   "metadata": {},
   "outputs": [
    {
     "name": "stdout",
     "output_type": "stream",
     "text": [
      "0.9266438334403542\n"
     ]
    }
   ],
   "source": [
    "bg_clf = ensemble.BaggingClassifier(clf, n_estimators=100)\n",
    "score_2 = cross_validation.cross_val_score(bg_clf, X, y, cv=10, n_jobs=-1).mean()\n",
    "print score_2"
   ]
  },
  {
   "cell_type": "code",
   "execution_count": 43,
   "metadata": {},
   "outputs": [
    {
     "name": "stdout",
     "output_type": "stream",
     "text": [
      "0.9260160315304409\n"
     ]
    }
   ],
   "source": [
    "bg_clf_adjusted = ensemble.BaggingClassifier(clf, n_estimators=100, max_features=int(round(np.sqrt(X.shape[1]), 0)))\n",
    "score_3 = cross_validation.cross_val_score(bg_clf_adjusted, X, y, cv=10, n_jobs=-1).mean()\n",
    "print score_3"
   ]
  },
  {
   "cell_type": "code",
   "execution_count": 41,
   "metadata": {},
   "outputs": [
    {
     "name": "stdout",
     "output_type": "stream",
     "text": [
      "0.9532755987970665\n"
     ]
    }
   ],
   "source": [
    "clf_adjusted = tree.DecisionTreeClassifier(max_features='sqrt')\n",
    "bg_clf_adjusted_v2 = ensemble.BaggingClassifier(clf_adjusted, n_estimators=100)\n",
    "score_4 = cross_validation.cross_val_score(bg_clf_adjusted_v2, X, y, cv=10, n_jobs=-1).mean()\n",
    "print score_4"
   ]
  },
  {
   "cell_type": "code",
   "execution_count": 45,
   "metadata": {},
   "outputs": [
    {
     "name": "stdout",
     "output_type": "stream",
     "text": [
      "0.9505852421544272\n"
     ]
    }
   ],
   "source": [
    "rf_classifier = ensemble.RandomForestClassifier(n_estimators=100)\n",
    "score_rf = cross_validation.cross_val_score(rf_classifier, X, y, cv=10, n_jobs=-1).mean()\n",
    "print score_rf"
   ]
  },
  {
   "cell_type": "code",
   "execution_count": 46,
   "metadata": {},
   "outputs": [
    {
     "data": {
      "text/plain": [
       "['warm_start',\n",
       " 'oob_score',\n",
       " 'n_jobs',\n",
       " 'min_impurity_decrease',\n",
       " 'verbose',\n",
       " 'max_leaf_nodes',\n",
       " 'bootstrap',\n",
       " 'min_samples_leaf',\n",
       " 'n_estimators',\n",
       " 'min_samples_split',\n",
       " 'min_weight_fraction_leaf',\n",
       " 'criterion',\n",
       " 'random_state',\n",
       " 'min_impurity_split',\n",
       " 'max_features',\n",
       " 'max_depth',\n",
       " 'class_weight']"
      ]
     },
     "execution_count": 46,
     "metadata": {},
     "output_type": "execute_result"
    }
   ],
   "source": [
    "rf_classifier.get_params().keys()"
   ]
  },
  {
   "cell_type": "code",
   "execution_count": 47,
   "metadata": {},
   "outputs": [],
   "source": [
    "n_trees_grid = {'n_estimators': np.arange(5, 106, 10)}\n",
    "features_grid = {'max_features': np.arange(0.1, 1.01, 0.1)}\n",
    "depth_grid = {'max_depth': np.arange(2, 20, 2)}"
   ]
  },
  {
   "cell_type": "code",
   "execution_count": 57,
   "metadata": {},
   "outputs": [
    {
     "name": "stdout",
     "output_type": "stream",
     "text": [
      "[mean: 0.87368, std: 0.05789, params: {'n_estimators': 5}, mean: 0.93434, std: 0.02554, params: {'n_estimators': 15}, mean: 0.94825, std: 0.01634, params: {'n_estimators': 25}, mean: 0.94602, std: 0.02252, params: {'n_estimators': 35}, mean: 0.94769, std: 0.02346, params: {'n_estimators': 45}, mean: 0.95326, std: 0.02178, params: {'n_estimators': 55}, mean: 0.95326, std: 0.02282, params: {'n_estimators': 65}, mean: 0.94880, std: 0.02462, params: {'n_estimators': 75}, mean: 0.94769, std: 0.02341, params: {'n_estimators': 85}, mean: 0.95159, std: 0.02209, params: {'n_estimators': 95}, mean: 0.95437, std: 0.01934, params: {'n_estimators': 105}]\n"
     ]
    }
   ],
   "source": [
    "grid_cv_trees = grid_search.GridSearchCV(rf_classifier, n_trees_grid, cv = 10)\n",
    "grid_cv_trees.fit(X, y)\n",
    "print grid_cv_trees.grid_scores_"
   ]
  },
  {
   "cell_type": "code",
   "execution_count": 58,
   "metadata": {},
   "outputs": [
    {
     "data": {
      "text/html": [
       "<div>\n",
       "<style scoped>\n",
       "    .dataframe tbody tr th:only-of-type {\n",
       "        vertical-align: middle;\n",
       "    }\n",
       "\n",
       "    .dataframe tbody tr th {\n",
       "        vertical-align: top;\n",
       "    }\n",
       "\n",
       "    .dataframe thead th {\n",
       "        text-align: right;\n",
       "    }\n",
       "</style>\n",
       "<table border=\"1\" class=\"dataframe\">\n",
       "  <thead>\n",
       "    <tr style=\"text-align: right;\">\n",
       "      <th></th>\n",
       "      <th>parameters</th>\n",
       "      <th>mean_validation_score</th>\n",
       "      <th>cv_validation_scores</th>\n",
       "    </tr>\n",
       "  </thead>\n",
       "  <tbody>\n",
       "    <tr>\n",
       "      <th>0</th>\n",
       "      <td>{u'n_estimators': 5}</td>\n",
       "      <td>0.873678</td>\n",
       "      <td>[0.8324324324324325, 0.907103825136612, 0.7845...</td>\n",
       "    </tr>\n",
       "    <tr>\n",
       "      <th>1</th>\n",
       "      <td>{u'n_estimators': 15}</td>\n",
       "      <td>0.934335</td>\n",
       "      <td>[0.8810810810810811, 0.9398907103825137, 0.917...</td>\n",
       "    </tr>\n",
       "    <tr>\n",
       "      <th>2</th>\n",
       "      <td>{u'n_estimators': 25}</td>\n",
       "      <td>0.948247</td>\n",
       "      <td>[0.9081081081081082, 0.9562841530054644, 0.950...</td>\n",
       "    </tr>\n",
       "    <tr>\n",
       "      <th>3</th>\n",
       "      <td>{u'n_estimators': 35}</td>\n",
       "      <td>0.946021</td>\n",
       "      <td>[0.9135135135135135, 0.9672131147540983, 0.933...</td>\n",
       "    </tr>\n",
       "    <tr>\n",
       "      <th>4</th>\n",
       "      <td>{u'n_estimators': 45}</td>\n",
       "      <td>0.947691</td>\n",
       "      <td>[0.9081081081081082, 0.9617486338797814, 0.928...</td>\n",
       "    </tr>\n",
       "  </tbody>\n",
       "</table>\n",
       "</div>"
      ],
      "text/plain": [
       "              parameters  mean_validation_score  \\\n",
       "0   {u'n_estimators': 5}               0.873678   \n",
       "1  {u'n_estimators': 15}               0.934335   \n",
       "2  {u'n_estimators': 25}               0.948247   \n",
       "3  {u'n_estimators': 35}               0.946021   \n",
       "4  {u'n_estimators': 45}               0.947691   \n",
       "\n",
       "                                cv_validation_scores  \n",
       "0  [0.8324324324324325, 0.907103825136612, 0.7845...  \n",
       "1  [0.8810810810810811, 0.9398907103825137, 0.917...  \n",
       "2  [0.9081081081081082, 0.9562841530054644, 0.950...  \n",
       "3  [0.9135135135135135, 0.9672131147540983, 0.933...  \n",
       "4  [0.9081081081081082, 0.9617486338797814, 0.928...  "
      ]
     },
     "execution_count": 58,
     "metadata": {},
     "output_type": "execute_result"
    }
   ],
   "source": [
    "df = pd.DataFrame(grid_cv_trees.grid_scores_)\n",
    "df.head()"
   ]
  },
  {
   "cell_type": "code",
   "execution_count": 63,
   "metadata": {},
   "outputs": [],
   "source": [
    "def plot_from_df(df, name):\n",
    "    params = [x[name] for x in df.parameters]\n",
    "    scores = [x for x in df.mean_validation_score]\n",
    "    pylab.grid(True)\n",
    "    pylab.plot(params, scores, 'r-', marker='o')\n",
    "    pylab.ylim((0.6, 1.05))\n",
    "    pylab.xlabel(name)\n",
    "    pylab.ylabel('accuracy')"
   ]
  },
  {
   "cell_type": "code",
   "execution_count": 67,
   "metadata": {},
   "outputs": [
    {
     "data": {
      "image/png": "[encoded data removed]",
      "text/plain": [
       "<Figure size 432x288 with 1 Axes>"
      ]
     },
     "metadata": {},
     "output_type": "display_data"
    }
   ],
   "source": [
    "plot_from_df(df, u'n_estimators')"
   ]
  },
  {
   "cell_type": "code",
   "execution_count": 68,
   "metadata": {},
   "outputs": [
    {
     "data": {
      "image/png": "[encoded data removed]",
      "text/plain": [
       "<Figure size 432x288 with 1 Axes>"
      ]
     },
     "metadata": {},
     "output_type": "display_data"
    }
   ],
   "source": [
    "grid_cv_features = grid_search.GridSearchCV(rf_classifier, features_grid, cv = 10)\n",
    "grid_cv_features.fit(X, y)\n",
    "df = pd.DataFrame(grid_cv_features.grid_scores_)\n",
    "plot_from_df(df, features_grid.keys()[0])"
   ]
  },
  {
   "cell_type": "code",
   "execution_count": 69,
   "metadata": {},
   "outputs": [
    {
     "data": {
      "image/png": "[encoded data removed]",
      "text/plain": [
       "<Figure size 432x288 with 1 Axes>"
      ]
     },
     "metadata": {},
     "output_type": "display_data"
    }
   ],
   "source": [
    "grid_cv_depth = grid_search.GridSearchCV(rf_classifier, depth_grid, cv = 10)\n",
    "grid_cv_depth.fit(X, y)\n",
    "df = pd.DataFrame(grid_cv_depth.grid_scores_)\n",
    "plot_from_df(df, depth_grid.keys()[0])"
   ]
  },
  {
   "cell_type": "code",
   "execution_count": 70,
   "metadata": {},
   "outputs": [],
   "source": [
    "def write_answer(answer, i):\n",
    "    with open(\"answer\" + str(i) + \".txt\", \"w\") as fout:\n",
    "        fout.write(str(answer))"
   ]
  },
  {
   "cell_type": "code",
   "execution_count": 73,
   "metadata": {},
   "outputs": [],
   "source": [
    "write_answer(score_1, 1)\n",
    "write_answer(score_2, 2)\n",
    "write_answer(score_3, 3)\n",
    "write_answer(score_4, 4)"
   ]
  },
  {
   "cell_type": "code",
   "execution_count": 74,
   "metadata": {},
   "outputs": [],
   "source": [
    "answer_5 = '2 3 4 7'\n",
    "write_answer(answer_5, 5)"
   ]
  }
 ],
 "metadata": {
  "kernelspec": {
   "display_name": "Python 2",
   "language": "python",
   "name": "python2"
  },
  "language_info": {
   "codemirror_mode": {
    "name": "ipython",
    "version": 2
   },
   "file_extension": ".py",
   "mimetype": "text/x-python",
   "name": "python",
   "nbconvert_exporter": "python",
   "pygments_lexer": "ipython2",
   "version": "2.7.12"
  }
 },
 "nbformat": 4,
 "nbformat_minor": 2
}
